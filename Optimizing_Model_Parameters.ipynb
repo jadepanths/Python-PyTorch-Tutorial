{
  "nbformat": 4,
  "nbformat_minor": 0,
  "metadata": {
    "colab": {
      "name": "Optimizing Model Parameters.ipynb",
      "provenance": [],
      "collapsed_sections": [],
      "authorship_tag": "ABX9TyN99QZcg2b3edwAJ7JLu30l",
      "include_colab_link": true
    },
    "kernelspec": {
      "name": "python3",
      "display_name": "Python 3"
    },
    "language_info": {
      "name": "python"
    },
    "widgets": {
      "application/vnd.jupyter.widget-state+json": {
        "3bbcaba841c04c4d839694c3de6582c5": {
          "model_module": "@jupyter-widgets/controls",
          "model_name": "HBoxModel",
          "state": {
            "_view_name": "HBoxView",
            "_dom_classes": [],
            "_model_name": "HBoxModel",
            "_view_module": "@jupyter-widgets/controls",
            "_model_module_version": "1.5.0",
            "_view_count": null,
            "_view_module_version": "1.5.0",
            "box_style": "",
            "layout": "IPY_MODEL_5d9f2c82cd134c6484b24ef19064f2f0",
            "_model_module": "@jupyter-widgets/controls",
            "children": [
              "IPY_MODEL_4966988a577e4acabc17a48427d36915",
              "IPY_MODEL_bbee39c33f974ea2a7283ef5abf7a1c6"
            ]
          }
        },
        "5d9f2c82cd134c6484b24ef19064f2f0": {
          "model_module": "@jupyter-widgets/base",
          "model_name": "LayoutModel",
          "state": {
            "_view_name": "LayoutView",
            "grid_template_rows": null,
            "right": null,
            "justify_content": null,
            "_view_module": "@jupyter-widgets/base",
            "overflow": null,
            "_model_module_version": "1.2.0",
            "_view_count": null,
            "flex_flow": null,
            "width": null,
            "min_width": null,
            "border": null,
            "align_items": null,
            "bottom": null,
            "_model_module": "@jupyter-widgets/base",
            "top": null,
            "grid_column": null,
            "overflow_y": null,
            "overflow_x": null,
            "grid_auto_flow": null,
            "grid_area": null,
            "grid_template_columns": null,
            "flex": null,
            "_model_name": "LayoutModel",
            "justify_items": null,
            "grid_row": null,
            "max_height": null,
            "align_content": null,
            "visibility": null,
            "align_self": null,
            "height": null,
            "min_height": null,
            "padding": null,
            "grid_auto_rows": null,
            "grid_gap": null,
            "max_width": null,
            "order": null,
            "_view_module_version": "1.2.0",
            "grid_template_areas": null,
            "object_position": null,
            "object_fit": null,
            "grid_auto_columns": null,
            "margin": null,
            "display": null,
            "left": null
          }
        },
        "4966988a577e4acabc17a48427d36915": {
          "model_module": "@jupyter-widgets/controls",
          "model_name": "FloatProgressModel",
          "state": {
            "_view_name": "ProgressView",
            "style": "IPY_MODEL_ed4fbbc739464a34965d7c7b7be7609e",
            "_dom_classes": [],
            "description": "",
            "_model_name": "FloatProgressModel",
            "bar_style": "success",
            "max": 26421880,
            "_view_module": "@jupyter-widgets/controls",
            "_model_module_version": "1.5.0",
            "value": 26421880,
            "_view_count": null,
            "_view_module_version": "1.5.0",
            "orientation": "horizontal",
            "min": 0,
            "description_tooltip": null,
            "_model_module": "@jupyter-widgets/controls",
            "layout": "IPY_MODEL_81c398d4c1484ed3b25ee8355087ada1"
          }
        },
        "bbee39c33f974ea2a7283ef5abf7a1c6": {
          "model_module": "@jupyter-widgets/controls",
          "model_name": "HTMLModel",
          "state": {
            "_view_name": "HTMLView",
            "style": "IPY_MODEL_c2f5b93511a044b6a4d8680c0813b320",
            "_dom_classes": [],
            "description": "",
            "_model_name": "HTMLModel",
            "placeholder": "​",
            "_view_module": "@jupyter-widgets/controls",
            "_model_module_version": "1.5.0",
            "value": " 26422272/? [17:38&lt;00:00, 24952.76it/s]",
            "_view_count": null,
            "_view_module_version": "1.5.0",
            "description_tooltip": null,
            "_model_module": "@jupyter-widgets/controls",
            "layout": "IPY_MODEL_604abac0067d4638a27ad528bafc3098"
          }
        },
        "ed4fbbc739464a34965d7c7b7be7609e": {
          "model_module": "@jupyter-widgets/controls",
          "model_name": "ProgressStyleModel",
          "state": {
            "_view_name": "StyleView",
            "_model_name": "ProgressStyleModel",
            "description_width": "initial",
            "_view_module": "@jupyter-widgets/base",
            "_model_module_version": "1.5.0",
            "_view_count": null,
            "_view_module_version": "1.2.0",
            "bar_color": null,
            "_model_module": "@jupyter-widgets/controls"
          }
        },
        "81c398d4c1484ed3b25ee8355087ada1": {
          "model_module": "@jupyter-widgets/base",
          "model_name": "LayoutModel",
          "state": {
            "_view_name": "LayoutView",
            "grid_template_rows": null,
            "right": null,
            "justify_content": null,
            "_view_module": "@jupyter-widgets/base",
            "overflow": null,
            "_model_module_version": "1.2.0",
            "_view_count": null,
            "flex_flow": null,
            "width": null,
            "min_width": null,
            "border": null,
            "align_items": null,
            "bottom": null,
            "_model_module": "@jupyter-widgets/base",
            "top": null,
            "grid_column": null,
            "overflow_y": null,
            "overflow_x": null,
            "grid_auto_flow": null,
            "grid_area": null,
            "grid_template_columns": null,
            "flex": null,
            "_model_name": "LayoutModel",
            "justify_items": null,
            "grid_row": null,
            "max_height": null,
            "align_content": null,
            "visibility": null,
            "align_self": null,
            "height": null,
            "min_height": null,
            "padding": null,
            "grid_auto_rows": null,
            "grid_gap": null,
            "max_width": null,
            "order": null,
            "_view_module_version": "1.2.0",
            "grid_template_areas": null,
            "object_position": null,
            "object_fit": null,
            "grid_auto_columns": null,
            "margin": null,
            "display": null,
            "left": null
          }
        },
        "c2f5b93511a044b6a4d8680c0813b320": {
          "model_module": "@jupyter-widgets/controls",
          "model_name": "DescriptionStyleModel",
          "state": {
            "_view_name": "StyleView",
            "_model_name": "DescriptionStyleModel",
            "description_width": "",
            "_view_module": "@jupyter-widgets/base",
            "_model_module_version": "1.5.0",
            "_view_count": null,
            "_view_module_version": "1.2.0",
            "_model_module": "@jupyter-widgets/controls"
          }
        },
        "604abac0067d4638a27ad528bafc3098": {
          "model_module": "@jupyter-widgets/base",
          "model_name": "LayoutModel",
          "state": {
            "_view_name": "LayoutView",
            "grid_template_rows": null,
            "right": null,
            "justify_content": null,
            "_view_module": "@jupyter-widgets/base",
            "overflow": null,
            "_model_module_version": "1.2.0",
            "_view_count": null,
            "flex_flow": null,
            "width": null,
            "min_width": null,
            "border": null,
            "align_items": null,
            "bottom": null,
            "_model_module": "@jupyter-widgets/base",
            "top": null,
            "grid_column": null,
            "overflow_y": null,
            "overflow_x": null,
            "grid_auto_flow": null,
            "grid_area": null,
            "grid_template_columns": null,
            "flex": null,
            "_model_name": "LayoutModel",
            "justify_items": null,
            "grid_row": null,
            "max_height": null,
            "align_content": null,
            "visibility": null,
            "align_self": null,
            "height": null,
            "min_height": null,
            "padding": null,
            "grid_auto_rows": null,
            "grid_gap": null,
            "max_width": null,
            "order": null,
            "_view_module_version": "1.2.0",
            "grid_template_areas": null,
            "object_position": null,
            "object_fit": null,
            "grid_auto_columns": null,
            "margin": null,
            "display": null,
            "left": null
          }
        },
        "60eccf3772a04e3eb99ba75b40c93dff": {
          "model_module": "@jupyter-widgets/controls",
          "model_name": "HBoxModel",
          "state": {
            "_view_name": "HBoxView",
            "_dom_classes": [],
            "_model_name": "HBoxModel",
            "_view_module": "@jupyter-widgets/controls",
            "_model_module_version": "1.5.0",
            "_view_count": null,
            "_view_module_version": "1.5.0",
            "box_style": "",
            "layout": "IPY_MODEL_d749b81e15dc429aa9e754b40241a2d1",
            "_model_module": "@jupyter-widgets/controls",
            "children": [
              "IPY_MODEL_ceee89f604a54626a1f877b5f8462383",
              "IPY_MODEL_b4b2336f3bf342639bf1b62662bac0b4"
            ]
          }
        },
        "d749b81e15dc429aa9e754b40241a2d1": {
          "model_module": "@jupyter-widgets/base",
          "model_name": "LayoutModel",
          "state": {
            "_view_name": "LayoutView",
            "grid_template_rows": null,
            "right": null,
            "justify_content": null,
            "_view_module": "@jupyter-widgets/base",
            "overflow": null,
            "_model_module_version": "1.2.0",
            "_view_count": null,
            "flex_flow": null,
            "width": null,
            "min_width": null,
            "border": null,
            "align_items": null,
            "bottom": null,
            "_model_module": "@jupyter-widgets/base",
            "top": null,
            "grid_column": null,
            "overflow_y": null,
            "overflow_x": null,
            "grid_auto_flow": null,
            "grid_area": null,
            "grid_template_columns": null,
            "flex": null,
            "_model_name": "LayoutModel",
            "justify_items": null,
            "grid_row": null,
            "max_height": null,
            "align_content": null,
            "visibility": null,
            "align_self": null,
            "height": null,
            "min_height": null,
            "padding": null,
            "grid_auto_rows": null,
            "grid_gap": null,
            "max_width": null,
            "order": null,
            "_view_module_version": "1.2.0",
            "grid_template_areas": null,
            "object_position": null,
            "object_fit": null,
            "grid_auto_columns": null,
            "margin": null,
            "display": null,
            "left": null
          }
        },
        "ceee89f604a54626a1f877b5f8462383": {
          "model_module": "@jupyter-widgets/controls",
          "model_name": "FloatProgressModel",
          "state": {
            "_view_name": "ProgressView",
            "style": "IPY_MODEL_834f2cb0d3004ce4b9c56a2eebb872a3",
            "_dom_classes": [],
            "description": "",
            "_model_name": "FloatProgressModel",
            "bar_style": "success",
            "max": 29515,
            "_view_module": "@jupyter-widgets/controls",
            "_model_module_version": "1.5.0",
            "value": 29515,
            "_view_count": null,
            "_view_module_version": "1.5.0",
            "orientation": "horizontal",
            "min": 0,
            "description_tooltip": null,
            "_model_module": "@jupyter-widgets/controls",
            "layout": "IPY_MODEL_17bba03ea50842ff9b67276419566794"
          }
        },
        "b4b2336f3bf342639bf1b62662bac0b4": {
          "model_module": "@jupyter-widgets/controls",
          "model_name": "HTMLModel",
          "state": {
            "_view_name": "HTMLView",
            "style": "IPY_MODEL_0372f5b0709a439c92845e8dff47028b",
            "_dom_classes": [],
            "description": "",
            "_model_name": "HTMLModel",
            "placeholder": "​",
            "_view_module": "@jupyter-widgets/controls",
            "_model_module_version": "1.5.0",
            "value": " 29696/? [17:36&lt;00:00, 28.12it/s]",
            "_view_count": null,
            "_view_module_version": "1.5.0",
            "description_tooltip": null,
            "_model_module": "@jupyter-widgets/controls",
            "layout": "IPY_MODEL_aa5374f5f696429793c36a11273cef1b"
          }
        },
        "834f2cb0d3004ce4b9c56a2eebb872a3": {
          "model_module": "@jupyter-widgets/controls",
          "model_name": "ProgressStyleModel",
          "state": {
            "_view_name": "StyleView",
            "_model_name": "ProgressStyleModel",
            "description_width": "initial",
            "_view_module": "@jupyter-widgets/base",
            "_model_module_version": "1.5.0",
            "_view_count": null,
            "_view_module_version": "1.2.0",
            "bar_color": null,
            "_model_module": "@jupyter-widgets/controls"
          }
        },
        "17bba03ea50842ff9b67276419566794": {
          "model_module": "@jupyter-widgets/base",
          "model_name": "LayoutModel",
          "state": {
            "_view_name": "LayoutView",
            "grid_template_rows": null,
            "right": null,
            "justify_content": null,
            "_view_module": "@jupyter-widgets/base",
            "overflow": null,
            "_model_module_version": "1.2.0",
            "_view_count": null,
            "flex_flow": null,
            "width": null,
            "min_width": null,
            "border": null,
            "align_items": null,
            "bottom": null,
            "_model_module": "@jupyter-widgets/base",
            "top": null,
            "grid_column": null,
            "overflow_y": null,
            "overflow_x": null,
            "grid_auto_flow": null,
            "grid_area": null,
            "grid_template_columns": null,
            "flex": null,
            "_model_name": "LayoutModel",
            "justify_items": null,
            "grid_row": null,
            "max_height": null,
            "align_content": null,
            "visibility": null,
            "align_self": null,
            "height": null,
            "min_height": null,
            "padding": null,
            "grid_auto_rows": null,
            "grid_gap": null,
            "max_width": null,
            "order": null,
            "_view_module_version": "1.2.0",
            "grid_template_areas": null,
            "object_position": null,
            "object_fit": null,
            "grid_auto_columns": null,
            "margin": null,
            "display": null,
            "left": null
          }
        },
        "0372f5b0709a439c92845e8dff47028b": {
          "model_module": "@jupyter-widgets/controls",
          "model_name": "DescriptionStyleModel",
          "state": {
            "_view_name": "StyleView",
            "_model_name": "DescriptionStyleModel",
            "description_width": "",
            "_view_module": "@jupyter-widgets/base",
            "_model_module_version": "1.5.0",
            "_view_count": null,
            "_view_module_version": "1.2.0",
            "_model_module": "@jupyter-widgets/controls"
          }
        },
        "aa5374f5f696429793c36a11273cef1b": {
          "model_module": "@jupyter-widgets/base",
          "model_name": "LayoutModel",
          "state": {
            "_view_name": "LayoutView",
            "grid_template_rows": null,
            "right": null,
            "justify_content": null,
            "_view_module": "@jupyter-widgets/base",
            "overflow": null,
            "_model_module_version": "1.2.0",
            "_view_count": null,
            "flex_flow": null,
            "width": null,
            "min_width": null,
            "border": null,
            "align_items": null,
            "bottom": null,
            "_model_module": "@jupyter-widgets/base",
            "top": null,
            "grid_column": null,
            "overflow_y": null,
            "overflow_x": null,
            "grid_auto_flow": null,
            "grid_area": null,
            "grid_template_columns": null,
            "flex": null,
            "_model_name": "LayoutModel",
            "justify_items": null,
            "grid_row": null,
            "max_height": null,
            "align_content": null,
            "visibility": null,
            "align_self": null,
            "height": null,
            "min_height": null,
            "padding": null,
            "grid_auto_rows": null,
            "grid_gap": null,
            "max_width": null,
            "order": null,
            "_view_module_version": "1.2.0",
            "grid_template_areas": null,
            "object_position": null,
            "object_fit": null,
            "grid_auto_columns": null,
            "margin": null,
            "display": null,
            "left": null
          }
        },
        "53317eab553045e6b7ae7f32d520dd57": {
          "model_module": "@jupyter-widgets/controls",
          "model_name": "HBoxModel",
          "state": {
            "_view_name": "HBoxView",
            "_dom_classes": [],
            "_model_name": "HBoxModel",
            "_view_module": "@jupyter-widgets/controls",
            "_model_module_version": "1.5.0",
            "_view_count": null,
            "_view_module_version": "1.5.0",
            "box_style": "",
            "layout": "IPY_MODEL_f983dada4e02469c9228b87514527c3f",
            "_model_module": "@jupyter-widgets/controls",
            "children": [
              "IPY_MODEL_672e5c8726e5417f94b7b6387cbea99f",
              "IPY_MODEL_316273a85db44fbbba2732d99825a117"
            ]
          }
        },
        "f983dada4e02469c9228b87514527c3f": {
          "model_module": "@jupyter-widgets/base",
          "model_name": "LayoutModel",
          "state": {
            "_view_name": "LayoutView",
            "grid_template_rows": null,
            "right": null,
            "justify_content": null,
            "_view_module": "@jupyter-widgets/base",
            "overflow": null,
            "_model_module_version": "1.2.0",
            "_view_count": null,
            "flex_flow": null,
            "width": null,
            "min_width": null,
            "border": null,
            "align_items": null,
            "bottom": null,
            "_model_module": "@jupyter-widgets/base",
            "top": null,
            "grid_column": null,
            "overflow_y": null,
            "overflow_x": null,
            "grid_auto_flow": null,
            "grid_area": null,
            "grid_template_columns": null,
            "flex": null,
            "_model_name": "LayoutModel",
            "justify_items": null,
            "grid_row": null,
            "max_height": null,
            "align_content": null,
            "visibility": null,
            "align_self": null,
            "height": null,
            "min_height": null,
            "padding": null,
            "grid_auto_rows": null,
            "grid_gap": null,
            "max_width": null,
            "order": null,
            "_view_module_version": "1.2.0",
            "grid_template_areas": null,
            "object_position": null,
            "object_fit": null,
            "grid_auto_columns": null,
            "margin": null,
            "display": null,
            "left": null
          }
        },
        "672e5c8726e5417f94b7b6387cbea99f": {
          "model_module": "@jupyter-widgets/controls",
          "model_name": "FloatProgressModel",
          "state": {
            "_view_name": "ProgressView",
            "style": "IPY_MODEL_6106ce421c704f9bb8d0f7b45007b370",
            "_dom_classes": [],
            "description": "",
            "_model_name": "FloatProgressModel",
            "bar_style": "success",
            "max": 4422102,
            "_view_module": "@jupyter-widgets/controls",
            "_model_module_version": "1.5.0",
            "value": 4422102,
            "_view_count": null,
            "_view_module_version": "1.5.0",
            "orientation": "horizontal",
            "min": 0,
            "description_tooltip": null,
            "_model_module": "@jupyter-widgets/controls",
            "layout": "IPY_MODEL_55471c602cfa41d798e7c54170e6ba62"
          }
        },
        "316273a85db44fbbba2732d99825a117": {
          "model_module": "@jupyter-widgets/controls",
          "model_name": "HTMLModel",
          "state": {
            "_view_name": "HTMLView",
            "style": "IPY_MODEL_fe5a0ec24f2544a08f0f1a91053b94b8",
            "_dom_classes": [],
            "description": "",
            "_model_name": "HTMLModel",
            "placeholder": "​",
            "_view_module": "@jupyter-widgets/controls",
            "_model_module_version": "1.5.0",
            "value": " 4422656/? [00:01&lt;00:00, 2597746.35it/s]",
            "_view_count": null,
            "_view_module_version": "1.5.0",
            "description_tooltip": null,
            "_model_module": "@jupyter-widgets/controls",
            "layout": "IPY_MODEL_ed4ad09a4fe6407182026e4ec31b1918"
          }
        },
        "6106ce421c704f9bb8d0f7b45007b370": {
          "model_module": "@jupyter-widgets/controls",
          "model_name": "ProgressStyleModel",
          "state": {
            "_view_name": "StyleView",
            "_model_name": "ProgressStyleModel",
            "description_width": "initial",
            "_view_module": "@jupyter-widgets/base",
            "_model_module_version": "1.5.0",
            "_view_count": null,
            "_view_module_version": "1.2.0",
            "bar_color": null,
            "_model_module": "@jupyter-widgets/controls"
          }
        },
        "55471c602cfa41d798e7c54170e6ba62": {
          "model_module": "@jupyter-widgets/base",
          "model_name": "LayoutModel",
          "state": {
            "_view_name": "LayoutView",
            "grid_template_rows": null,
            "right": null,
            "justify_content": null,
            "_view_module": "@jupyter-widgets/base",
            "overflow": null,
            "_model_module_version": "1.2.0",
            "_view_count": null,
            "flex_flow": null,
            "width": null,
            "min_width": null,
            "border": null,
            "align_items": null,
            "bottom": null,
            "_model_module": "@jupyter-widgets/base",
            "top": null,
            "grid_column": null,
            "overflow_y": null,
            "overflow_x": null,
            "grid_auto_flow": null,
            "grid_area": null,
            "grid_template_columns": null,
            "flex": null,
            "_model_name": "LayoutModel",
            "justify_items": null,
            "grid_row": null,
            "max_height": null,
            "align_content": null,
            "visibility": null,
            "align_self": null,
            "height": null,
            "min_height": null,
            "padding": null,
            "grid_auto_rows": null,
            "grid_gap": null,
            "max_width": null,
            "order": null,
            "_view_module_version": "1.2.0",
            "grid_template_areas": null,
            "object_position": null,
            "object_fit": null,
            "grid_auto_columns": null,
            "margin": null,
            "display": null,
            "left": null
          }
        },
        "fe5a0ec24f2544a08f0f1a91053b94b8": {
          "model_module": "@jupyter-widgets/controls",
          "model_name": "DescriptionStyleModel",
          "state": {
            "_view_name": "StyleView",
            "_model_name": "DescriptionStyleModel",
            "description_width": "",
            "_view_module": "@jupyter-widgets/base",
            "_model_module_version": "1.5.0",
            "_view_count": null,
            "_view_module_version": "1.2.0",
            "_model_module": "@jupyter-widgets/controls"
          }
        },
        "ed4ad09a4fe6407182026e4ec31b1918": {
          "model_module": "@jupyter-widgets/base",
          "model_name": "LayoutModel",
          "state": {
            "_view_name": "LayoutView",
            "grid_template_rows": null,
            "right": null,
            "justify_content": null,
            "_view_module": "@jupyter-widgets/base",
            "overflow": null,
            "_model_module_version": "1.2.0",
            "_view_count": null,
            "flex_flow": null,
            "width": null,
            "min_width": null,
            "border": null,
            "align_items": null,
            "bottom": null,
            "_model_module": "@jupyter-widgets/base",
            "top": null,
            "grid_column": null,
            "overflow_y": null,
            "overflow_x": null,
            "grid_auto_flow": null,
            "grid_area": null,
            "grid_template_columns": null,
            "flex": null,
            "_model_name": "LayoutModel",
            "justify_items": null,
            "grid_row": null,
            "max_height": null,
            "align_content": null,
            "visibility": null,
            "align_self": null,
            "height": null,
            "min_height": null,
            "padding": null,
            "grid_auto_rows": null,
            "grid_gap": null,
            "max_width": null,
            "order": null,
            "_view_module_version": "1.2.0",
            "grid_template_areas": null,
            "object_position": null,
            "object_fit": null,
            "grid_auto_columns": null,
            "margin": null,
            "display": null,
            "left": null
          }
        },
        "98a45a0270a24866a6596876be81dcb1": {
          "model_module": "@jupyter-widgets/controls",
          "model_name": "HBoxModel",
          "state": {
            "_view_name": "HBoxView",
            "_dom_classes": [],
            "_model_name": "HBoxModel",
            "_view_module": "@jupyter-widgets/controls",
            "_model_module_version": "1.5.0",
            "_view_count": null,
            "_view_module_version": "1.5.0",
            "box_style": "",
            "layout": "IPY_MODEL_1b4f54c977e24b94a5965c003123d31a",
            "_model_module": "@jupyter-widgets/controls",
            "children": [
              "IPY_MODEL_c77d5681727f4a6eae9e79de1dfd8d7c",
              "IPY_MODEL_303cb29e1e2e478a828f6118bc273eed"
            ]
          }
        },
        "1b4f54c977e24b94a5965c003123d31a": {
          "model_module": "@jupyter-widgets/base",
          "model_name": "LayoutModel",
          "state": {
            "_view_name": "LayoutView",
            "grid_template_rows": null,
            "right": null,
            "justify_content": null,
            "_view_module": "@jupyter-widgets/base",
            "overflow": null,
            "_model_module_version": "1.2.0",
            "_view_count": null,
            "flex_flow": null,
            "width": null,
            "min_width": null,
            "border": null,
            "align_items": null,
            "bottom": null,
            "_model_module": "@jupyter-widgets/base",
            "top": null,
            "grid_column": null,
            "overflow_y": null,
            "overflow_x": null,
            "grid_auto_flow": null,
            "grid_area": null,
            "grid_template_columns": null,
            "flex": null,
            "_model_name": "LayoutModel",
            "justify_items": null,
            "grid_row": null,
            "max_height": null,
            "align_content": null,
            "visibility": null,
            "align_self": null,
            "height": null,
            "min_height": null,
            "padding": null,
            "grid_auto_rows": null,
            "grid_gap": null,
            "max_width": null,
            "order": null,
            "_view_module_version": "1.2.0",
            "grid_template_areas": null,
            "object_position": null,
            "object_fit": null,
            "grid_auto_columns": null,
            "margin": null,
            "display": null,
            "left": null
          }
        },
        "c77d5681727f4a6eae9e79de1dfd8d7c": {
          "model_module": "@jupyter-widgets/controls",
          "model_name": "FloatProgressModel",
          "state": {
            "_view_name": "ProgressView",
            "style": "IPY_MODEL_f45dcf6da9e545d49706f9f251de5a99",
            "_dom_classes": [],
            "description": "",
            "_model_name": "FloatProgressModel",
            "bar_style": "success",
            "max": 5148,
            "_view_module": "@jupyter-widgets/controls",
            "_model_module_version": "1.5.0",
            "value": 5148,
            "_view_count": null,
            "_view_module_version": "1.5.0",
            "orientation": "horizontal",
            "min": 0,
            "description_tooltip": null,
            "_model_module": "@jupyter-widgets/controls",
            "layout": "IPY_MODEL_9c8e0ab2e4ae4752a09227a3cbaff457"
          }
        },
        "303cb29e1e2e478a828f6118bc273eed": {
          "model_module": "@jupyter-widgets/controls",
          "model_name": "HTMLModel",
          "state": {
            "_view_name": "HTMLView",
            "style": "IPY_MODEL_be4b72281ce748bc97dc8dadcbd1b05a",
            "_dom_classes": [],
            "description": "",
            "_model_name": "HTMLModel",
            "placeholder": "​",
            "_view_module": "@jupyter-widgets/controls",
            "_model_module_version": "1.5.0",
            "value": " 6144/? [00:00&lt;00:00, 22678.46it/s]",
            "_view_count": null,
            "_view_module_version": "1.5.0",
            "description_tooltip": null,
            "_model_module": "@jupyter-widgets/controls",
            "layout": "IPY_MODEL_2d823424235f48c5a19e0a7cf034f7f1"
          }
        },
        "f45dcf6da9e545d49706f9f251de5a99": {
          "model_module": "@jupyter-widgets/controls",
          "model_name": "ProgressStyleModel",
          "state": {
            "_view_name": "StyleView",
            "_model_name": "ProgressStyleModel",
            "description_width": "initial",
            "_view_module": "@jupyter-widgets/base",
            "_model_module_version": "1.5.0",
            "_view_count": null,
            "_view_module_version": "1.2.0",
            "bar_color": null,
            "_model_module": "@jupyter-widgets/controls"
          }
        },
        "9c8e0ab2e4ae4752a09227a3cbaff457": {
          "model_module": "@jupyter-widgets/base",
          "model_name": "LayoutModel",
          "state": {
            "_view_name": "LayoutView",
            "grid_template_rows": null,
            "right": null,
            "justify_content": null,
            "_view_module": "@jupyter-widgets/base",
            "overflow": null,
            "_model_module_version": "1.2.0",
            "_view_count": null,
            "flex_flow": null,
            "width": null,
            "min_width": null,
            "border": null,
            "align_items": null,
            "bottom": null,
            "_model_module": "@jupyter-widgets/base",
            "top": null,
            "grid_column": null,
            "overflow_y": null,
            "overflow_x": null,
            "grid_auto_flow": null,
            "grid_area": null,
            "grid_template_columns": null,
            "flex": null,
            "_model_name": "LayoutModel",
            "justify_items": null,
            "grid_row": null,
            "max_height": null,
            "align_content": null,
            "visibility": null,
            "align_self": null,
            "height": null,
            "min_height": null,
            "padding": null,
            "grid_auto_rows": null,
            "grid_gap": null,
            "max_width": null,
            "order": null,
            "_view_module_version": "1.2.0",
            "grid_template_areas": null,
            "object_position": null,
            "object_fit": null,
            "grid_auto_columns": null,
            "margin": null,
            "display": null,
            "left": null
          }
        },
        "be4b72281ce748bc97dc8dadcbd1b05a": {
          "model_module": "@jupyter-widgets/controls",
          "model_name": "DescriptionStyleModel",
          "state": {
            "_view_name": "StyleView",
            "_model_name": "DescriptionStyleModel",
            "description_width": "",
            "_view_module": "@jupyter-widgets/base",
            "_model_module_version": "1.5.0",
            "_view_count": null,
            "_view_module_version": "1.2.0",
            "_model_module": "@jupyter-widgets/controls"
          }
        },
        "2d823424235f48c5a19e0a7cf034f7f1": {
          "model_module": "@jupyter-widgets/base",
          "model_name": "LayoutModel",
          "state": {
            "_view_name": "LayoutView",
            "grid_template_rows": null,
            "right": null,
            "justify_content": null,
            "_view_module": "@jupyter-widgets/base",
            "overflow": null,
            "_model_module_version": "1.2.0",
            "_view_count": null,
            "flex_flow": null,
            "width": null,
            "min_width": null,
            "border": null,
            "align_items": null,
            "bottom": null,
            "_model_module": "@jupyter-widgets/base",
            "top": null,
            "grid_column": null,
            "overflow_y": null,
            "overflow_x": null,
            "grid_auto_flow": null,
            "grid_area": null,
            "grid_template_columns": null,
            "flex": null,
            "_model_name": "LayoutModel",
            "justify_items": null,
            "grid_row": null,
            "max_height": null,
            "align_content": null,
            "visibility": null,
            "align_self": null,
            "height": null,
            "min_height": null,
            "padding": null,
            "grid_auto_rows": null,
            "grid_gap": null,
            "max_width": null,
            "order": null,
            "_view_module_version": "1.2.0",
            "grid_template_areas": null,
            "object_position": null,
            "object_fit": null,
            "grid_auto_columns": null,
            "margin": null,
            "display": null,
            "left": null
          }
        }
      }
    }
  },
  "cells": [
    {
      "cell_type": "markdown",
      "metadata": {
        "id": "view-in-github",
        "colab_type": "text"
      },
      "source": [
        "<a href=\"https://colab.research.google.com/github/jadepanths/Python-PyTorch-Tutorial/blob/main/Optimizing_Model_Parameters.ipynb\" target=\"_parent\"><img src=\"https://colab.research.google.com/assets/colab-badge.svg\" alt=\"Open In Colab\"/></a>"
      ]
    },
    {
      "cell_type": "markdown",
      "metadata": {
        "id": "hzGOlQy1-5bp"
      },
      "source": [
        "# OPTIMIZING MODEL PARAMETERS\n",
        "Since we got a model and data from the previous sessions, we will train, validate, and test our model by optimizing its parameters on our data. Training a model is an iterative process. In each iteration (called an epoch), the model makes a guess about output, calculates the error in its guess (loss), collects the derivatives of the error with respect to its parameters, and optimizes these parameters using gradient descent."
      ]
    },
    {
      "cell_type": "code",
      "metadata": {
        "colab": {
          "base_uri": "https://localhost:8080/",
          "height": 534,
          "referenced_widgets": [
            "3bbcaba841c04c4d839694c3de6582c5",
            "5d9f2c82cd134c6484b24ef19064f2f0",
            "4966988a577e4acabc17a48427d36915",
            "bbee39c33f974ea2a7283ef5abf7a1c6",
            "ed4fbbc739464a34965d7c7b7be7609e",
            "81c398d4c1484ed3b25ee8355087ada1",
            "c2f5b93511a044b6a4d8680c0813b320",
            "604abac0067d4638a27ad528bafc3098",
            "60eccf3772a04e3eb99ba75b40c93dff",
            "d749b81e15dc429aa9e754b40241a2d1",
            "ceee89f604a54626a1f877b5f8462383",
            "b4b2336f3bf342639bf1b62662bac0b4",
            "834f2cb0d3004ce4b9c56a2eebb872a3",
            "17bba03ea50842ff9b67276419566794",
            "0372f5b0709a439c92845e8dff47028b",
            "aa5374f5f696429793c36a11273cef1b",
            "53317eab553045e6b7ae7f32d520dd57",
            "f983dada4e02469c9228b87514527c3f",
            "672e5c8726e5417f94b7b6387cbea99f",
            "316273a85db44fbbba2732d99825a117",
            "6106ce421c704f9bb8d0f7b45007b370",
            "55471c602cfa41d798e7c54170e6ba62",
            "fe5a0ec24f2544a08f0f1a91053b94b8",
            "ed4ad09a4fe6407182026e4ec31b1918",
            "98a45a0270a24866a6596876be81dcb1",
            "1b4f54c977e24b94a5965c003123d31a",
            "c77d5681727f4a6eae9e79de1dfd8d7c",
            "303cb29e1e2e478a828f6118bc273eed",
            "f45dcf6da9e545d49706f9f251de5a99",
            "9c8e0ab2e4ae4752a09227a3cbaff457",
            "be4b72281ce748bc97dc8dadcbd1b05a",
            "2d823424235f48c5a19e0a7cf034f7f1"
          ]
        },
        "id": "AA8hjD7391sW",
        "outputId": "b5043274-eab8-4ce4-ec9d-2d9868af4df6"
      },
      "source": [
        "import torch\n",
        "from torch import nn\n",
        "from torch.utils.data import DataLoader\n",
        "from torchvision import datasets\n",
        "from torchvision.transforms import ToTensor, Lambda\n",
        "\n",
        "training_data = datasets.FashionMNIST(\n",
        "    root=\"data\",\n",
        "    train=True,\n",
        "    download=True,\n",
        "    transform=ToTensor()\n",
        ")\n",
        "\n",
        "test_data = datasets.FashionMNIST(\n",
        "    root=\"data\",\n",
        "    train=False,\n",
        "    download=True,\n",
        "    transform=ToTensor()\n",
        ")\n",
        "\n",
        "train_dataloader = DataLoader(training_data, batch_size=64)\n",
        "test_dataloader = DataLoader(test_data, batch_size=64)\n",
        "\n",
        "class NeuralNetwork(nn.Module):\n",
        "    def __init__(self):\n",
        "        super(NeuralNetwork, self).__init__()\n",
        "        self.flatten = nn.Flatten()\n",
        "        self.linear_relu_stack = nn.Sequential(\n",
        "            nn.Linear(28*28, 512),\n",
        "            nn.ReLU(),\n",
        "            nn.Linear(512, 512),\n",
        "            nn.ReLU(),\n",
        "            nn.Linear(512, 10),\n",
        "            nn.ReLU()\n",
        "        )\n",
        "\n",
        "    def forward(self, x):\n",
        "        x = self.flatten(x)\n",
        "        logits = self.linear_relu_stack(x)\n",
        "        return logits\n",
        "\n",
        "model = NeuralNetwork()"
      ],
      "execution_count": 2,
      "outputs": [
        {
          "output_type": "stream",
          "text": [
            "Downloading http://fashion-mnist.s3-website.eu-central-1.amazonaws.com/train-images-idx3-ubyte.gz\n",
            "Downloading http://fashion-mnist.s3-website.eu-central-1.amazonaws.com/train-images-idx3-ubyte.gz to data/FashionMNIST/raw/train-images-idx3-ubyte.gz\n"
          ],
          "name": "stdout"
        },
        {
          "output_type": "display_data",
          "data": {
            "application/vnd.jupyter.widget-view+json": {
              "model_id": "3bbcaba841c04c4d839694c3de6582c5",
              "version_minor": 0,
              "version_major": 2
            },
            "text/plain": [
              "HBox(children=(FloatProgress(value=0.0, max=26421880.0), HTML(value='')))"
            ]
          },
          "metadata": {
            "tags": []
          }
        },
        {
          "output_type": "stream",
          "text": [
            "\n",
            "Extracting data/FashionMNIST/raw/train-images-idx3-ubyte.gz to data/FashionMNIST/raw\n",
            "\n",
            "Downloading http://fashion-mnist.s3-website.eu-central-1.amazonaws.com/train-labels-idx1-ubyte.gz\n",
            "Downloading http://fashion-mnist.s3-website.eu-central-1.amazonaws.com/train-labels-idx1-ubyte.gz to data/FashionMNIST/raw/train-labels-idx1-ubyte.gz\n"
          ],
          "name": "stdout"
        },
        {
          "output_type": "display_data",
          "data": {
            "application/vnd.jupyter.widget-view+json": {
              "model_id": "60eccf3772a04e3eb99ba75b40c93dff",
              "version_minor": 0,
              "version_major": 2
            },
            "text/plain": [
              "HBox(children=(FloatProgress(value=0.0, max=29515.0), HTML(value='')))"
            ]
          },
          "metadata": {
            "tags": []
          }
        },
        {
          "output_type": "stream",
          "text": [
            "\n",
            "Extracting data/FashionMNIST/raw/train-labels-idx1-ubyte.gz to data/FashionMNIST/raw\n",
            "\n",
            "Downloading http://fashion-mnist.s3-website.eu-central-1.amazonaws.com/t10k-images-idx3-ubyte.gz\n",
            "Downloading http://fashion-mnist.s3-website.eu-central-1.amazonaws.com/t10k-images-idx3-ubyte.gz to data/FashionMNIST/raw/t10k-images-idx3-ubyte.gz\n"
          ],
          "name": "stdout"
        },
        {
          "output_type": "display_data",
          "data": {
            "application/vnd.jupyter.widget-view+json": {
              "model_id": "53317eab553045e6b7ae7f32d520dd57",
              "version_minor": 0,
              "version_major": 2
            },
            "text/plain": [
              "HBox(children=(FloatProgress(value=0.0, max=4422102.0), HTML(value='')))"
            ]
          },
          "metadata": {
            "tags": []
          }
        },
        {
          "output_type": "stream",
          "text": [
            "\n",
            "Extracting data/FashionMNIST/raw/t10k-images-idx3-ubyte.gz to data/FashionMNIST/raw\n",
            "\n",
            "Downloading http://fashion-mnist.s3-website.eu-central-1.amazonaws.com/t10k-labels-idx1-ubyte.gz\n",
            "Downloading http://fashion-mnist.s3-website.eu-central-1.amazonaws.com/t10k-labels-idx1-ubyte.gz to data/FashionMNIST/raw/t10k-labels-idx1-ubyte.gz\n"
          ],
          "name": "stdout"
        },
        {
          "output_type": "display_data",
          "data": {
            "application/vnd.jupyter.widget-view+json": {
              "model_id": "98a45a0270a24866a6596876be81dcb1",
              "version_minor": 0,
              "version_major": 2
            },
            "text/plain": [
              "HBox(children=(FloatProgress(value=0.0, max=5148.0), HTML(value='')))"
            ]
          },
          "metadata": {
            "tags": []
          }
        },
        {
          "output_type": "stream",
          "text": [
            "\n",
            "Extracting data/FashionMNIST/raw/t10k-labels-idx1-ubyte.gz to data/FashionMNIST/raw\n",
            "\n"
          ],
          "name": "stdout"
        },
        {
          "output_type": "stream",
          "text": [
            "/usr/local/lib/python3.7/dist-packages/torchvision/datasets/mnist.py:498: UserWarning: The given NumPy array is not writeable, and PyTorch does not support non-writeable tensors. This means you can write to the underlying (supposedly non-writeable) NumPy array using the tensor. You may want to copy the array to protect its data or make it writeable before converting it to a tensor. This type of warning will be suppressed for the rest of this program. (Triggered internally at  /pytorch/torch/csrc/utils/tensor_numpy.cpp:180.)\n",
            "  return torch.from_numpy(parsed.astype(m[2], copy=False)).view(*s)\n"
          ],
          "name": "stderr"
        }
      ]
    },
    {
      "cell_type": "markdown",
      "metadata": {
        "id": "mrG5yQvsA4UD"
      },
      "source": [
        "## Hyperparameters\n",
        "Hyperparameters are adjustable parameters that let you control the model optimization process. Different hyperparameter values can impact model training and convergence rates.\n",
        "\n",
        "We define the following hyperparameters for training:\n",
        "\n",
        "1.   **Number of Epochs** - the number times to iterate over the dataset\n",
        "2.   **Batch Size** - the number of data samples propagated through the network before the parameters are updated\n",
        "3.   **Learning Rate** - how much to update models parameters at each batch/epoch. Smaller values yield slow learning speed, while large values may result in unpredictable behavior during training\n"
      ]
    },
    {
      "cell_type": "code",
      "metadata": {
        "id": "8FbU4OndylNA"
      },
      "source": [
        "learning_rate = 1e-3\n",
        "batch_size = 64\n",
        "epochs = 5"
      ],
      "execution_count": 6,
      "outputs": []
    },
    {
      "cell_type": "markdown",
      "metadata": {
        "id": "qPWGQN7zCfrS"
      },
      "source": [
        "## Optimization Loop\n",
        "Once we set our hyperparameters, we can then train and optimize our model with an optimization loop. Each iteration of the optimization loop is called an **epoch**.\n",
        "\n",
        "Each epoch consists of two main parts:\n",
        "\n",
        "1.   **The Train Loop** - iterate over the training dataset and try to converge to optimal parameters.\n",
        "2.   **The Validation/Test Loop** - iterate over the test dataset to check if the model performance is improving.\n"
      ]
    },
    {
      "cell_type": "markdown",
      "metadata": {
        "id": "FS2aD2nWah8j"
      },
      "source": [
        "## Loss Function\n",
        "When presented with some training data, our untrained network is likely not to give the correct answer. **Loss function** measures the dissimilarity of the obtained result to the target result to the target value, and it is the loss fucntion that we want to minimize during the training. In conclusion, **loss** is a prediction error of the neural network. "
      ]
    },
    {
      "cell_type": "markdown",
      "metadata": {
        "id": "d8Pq9uaUah4D"
      },
      "source": [
        "### [Loss](https://towardsdatascience.com/understanding-different-loss-functions-for-neural-networks-dd1ed0274718)\n",
        "To calculate the loss, we make a prediction using the inputs of the given data sample and compare it against the true data label value. \n",
        "\n",
        "There are various inbuilt loss functions for different objectives. The essential loss functions are:\n",
        "\n",
        "*   Mean Squared Error(MSE)\n",
        "*   Negative Log Likelihood(NLL)\n",
        "*   Binary Crossentropy (BCE)\n",
        "*   Categorical Crossentropy (CC)\n",
        "*   Sparse Categorical Crossentropy (SCC)"
      ]
    },
    {
      "cell_type": "markdown",
      "metadata": {
        "id": "i3Rv2zDZrQ5E"
      },
      "source": [
        "We pass our model’s output logits to nn.CrossEntropyLoss, which will normalize the logits and compute the prediction error."
      ]
    },
    {
      "cell_type": "code",
      "metadata": {
        "id": "Z2eQuP9wrNoo"
      },
      "source": [
        "# Initialize the loss function\n",
        "loss_fn = nn.CrossEntropyLoss()"
      ],
      "execution_count": 3,
      "outputs": []
    },
    {
      "cell_type": "markdown",
      "metadata": {
        "id": "jxej_YR7gzWb"
      },
      "source": [
        "#### Mean Squared Error\n",
        "**MSE** ([nn.MSELoss](https://pytorch.org/docs/stable/generated/torch.nn.MSELoss.html#torch.nn.MSELoss)) loss is used for regression tasks. \n",
        "To calculate, we simply taking the mean of the squared differences between the predicted and actual values. The result is always positive regardless of the sign of the predicted and the actual values.\n",
        "\n",
        "Here is an example from [Towards data science](https://towardsdatascience.com/understanding-different-loss-functions-for-neural-networks-dd1ed0274718), we have a neural network wich takes house data and predicts house price. In this case, you can use the **MSE** loss. Basically, in the case where the output is a real number, you should use this loss function.\n",
        "![1_-JUoYyu435ZjnIZ2nZ4Y5w.jpeg](data:image/jpeg;base64,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)"
      ]
    },
    {
      "cell_type": "markdown",
      "metadata": {
        "id": "r2v4gNu_mLbO"
      },
      "source": [
        "#### Negaive Log Likelihood\n",
        "The negative log likelihood loss ([nn.NLLLoss](https://pytorch.org/docs/stable/generated/torch.nn.NLLLoss.html#torch.nn.NLLLoss)). It is useful to train a classification problem with C classes."
      ]
    },
    {
      "cell_type": "markdown",
      "metadata": {
        "id": "Vsd3ZQpGphhG"
      },
      "source": [
        "#### Crossentropy\n",
        "Crossentropy loss in pyTorch combines ```LogSoftmax``` and ```NLLLoss``` in an one single class.\n",
        "It is useful when training a classification problem with C classes. If provided, the optional argument weight should be a 1D Tensor assigning weight to each of the classes. This is particularly useful when you have an unbalanced training set."
      ]
    },
    {
      "cell_type": "code",
      "metadata": {
        "colab": {
          "base_uri": "https://localhost:8080/"
        },
        "id": "hU0s0sJTp5oM",
        "outputId": "082e2b5b-3f59-4a0c-813d-ddd41d6917ea"
      },
      "source": [
        "loss = nn.CrossEntropyLoss()\n",
        "input = torch.randn(3, 5, requires_grad=True)\n",
        "target = torch.empty(3, dtype=torch.long).random_(5)\n",
        "output = loss(input, target)\n",
        "output.backward()\n",
        "print(output)"
      ],
      "execution_count": 4,
      "outputs": [
        {
          "output_type": "stream",
          "text": [
            "tensor(1.9896, grad_fn=<NllLossBackward>)\n"
          ],
          "name": "stdout"
        }
      ]
    },
    {
      "cell_type": "markdown",
      "metadata": {
        "id": "rpnHTjhip6do"
      },
      "source": [
        "##### Binary Crossentropy\n",
        "According to *Towards data science*,\n",
        "BCE loss is used for the binary classification tasks. If you are using BCE loss function, you just need one output node to classify the data into two classes. The output value should be passed through a sigmoid activation function and the range of output is (0 – 1).\n",
        "\n",
        "For example, we have a neural network that takes atmosphere data and predicts whether it will rain or not. If the output is greater than 0.5, the network classifies it as `rain` and if the output is less than 0.5, the network classifies it as `not rain`. (it could be opposite depending upon how you train the network). More the probability score value, the more the chance of raining.\n",
        "![binary ctp.jpeg](data:image/jpeg;base64,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)"
      ]
    },
    {
      "cell_type": "markdown",
      "metadata": {
        "id": "a1Upszqoqenv"
      },
      "source": [
        "##### Categorical Crossentropy\n",
        "According to [Towards data science](https://towardsdatascience.com/understanding-different-loss-functions-for-neural-networks-dd1ed0274718),\n",
        "when we have a multi-class classification task, one of the loss function you can go ahead is this one. If you are using CCE loss function, there must be the same number of output nodes as the classes. And the final layer output should be passed through a softmax activation so that each node output a probability value between (0 – 1).\n",
        "\n",
        "For example, we have a neural network that takes an image and classifies it into a cat or dog. If the cat node has a high probability score then the image is classified into a cat otherwise dog. Basically, whichever class node has the highest probability score, the image is classified into that class.\n",
        "![cate.jpeg](data:image/jpeg;base64,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)"
      ]
    },
    {
      "cell_type": "markdown",
      "metadata": {
        "id": "-IfXT7hmq1Ak"
      },
      "source": [
        "##### Sparse Categorical Crossentropy\n",
        "According to *Towards data science*, this loss function is almost similar to CCE except for one change.\n",
        "When we are using SCCE loss function, you do not need to one hot encode the target vector. If the target image is of a cat, you simply pass 0, otherwise 1. Basically, whichever the class is you just pass the index of that class.\n",
        "\n",
        "![sparse.jpeg](data:image/jpeg;base64,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)"
      ]
    },
    {
      "cell_type": "markdown",
      "metadata": {
        "id": "ZLDWVqodr-5F"
      },
      "source": [
        "## Optimizer\n",
        "Optimization is the process of adjusting model parameters to reduce model error in each training step.\n",
        "Optimization algorithms define how this process is performed (in this example, we use Stochastic Gradient Descent). All optimization logic is ancapsulated in the optimizer object. Here, we use the SGD optimizerl additionally, there are many [optimizers](https://pytorch.org/docs/stable/optim.html) available in PyTorch.\n",
        "\n",
        "We initialize the optimizer by registering the model’s parameters that need to be trained, and passing in the learning rate hyperparameter."
      ]
    },
    {
      "cell_type": "code",
      "metadata": {
        "id": "hJkJxfT7xusZ"
      },
      "source": [
        "optimizer = torch.optim.SGD(model.parameters(), lr=learning_rate)"
      ],
      "execution_count": 7,
      "outputs": []
    },
    {
      "cell_type": "markdown",
      "metadata": {
        "id": "1Wt0Lk1WxkHE"
      },
      "source": [
        "Inside the training loop, opimization happens in three steps:\n",
        "\n",
        "*   Call `optimizer.zero_grad()` to reset the gradients of model parameters. Gradients by default add up; to prevent double-counting, we explicitly zero them at each iteration.\n",
        "*   Backpropagate the prediction loss with a call to `loss.backwards()`. PyTorch deposits the gradients of the loss w.r.t. each parameter.\n",
        "*   Once we have our gradients, we call `optimizer.step()` to adjust the parameters by the gradients collected in the backward pass.\n",
        "\n"
      ]
    },
    {
      "cell_type": "markdown",
      "metadata": {
        "id": "FrMW6R_bzL_k"
      },
      "source": [
        "## Full Implementation\n",
        "We have defined `train_loop` that loops over our optimization code, and `test_loop` that evaluates the model’s performance against our test data."
      ]
    },
    {
      "cell_type": "code",
      "metadata": {
        "id": "4ORVPfEXzX8x"
      },
      "source": [
        "def train_loop(dataloader, model, loss_fn, optimizer):\n",
        "    size = len(dataloader.dataset)\n",
        "    for batch, (X, y) in enumerate(dataloader):\n",
        "        # Compute prediction and loss\n",
        "        pred = model(X)\n",
        "        loss = loss_fn(pred, y)\n",
        "\n",
        "        # Backpropagation\n",
        "        optimizer.zero_grad()\n",
        "        loss.backward()\n",
        "        optimizer.step()\n",
        "\n",
        "        if batch % 100 == 0:\n",
        "            loss, current = loss.item(), batch * len(X)\n",
        "            print(f\"loss: {loss:>7f}  [{current:>5d}/{size:>5d}]\")\n",
        "\n",
        "\n",
        "def test_loop(dataloader, model, loss_fn):\n",
        "    size = len(dataloader.dataset)\n",
        "    num_batches = len(dataloader)\n",
        "    test_loss, correct = 0, 0\n",
        "\n",
        "    with torch.no_grad():\n",
        "        for X, y in dataloader:\n",
        "            pred = model(X)\n",
        "            test_loss += loss_fn(pred, y).item()\n",
        "            correct += (pred.argmax(1) == y).type(torch.float).sum().item()\n",
        "\n",
        "    test_loss /= num_batches\n",
        "    correct /= size\n",
        "    print(f\"Test Error: \\n Accuracy: {(100*correct):>0.1f}%, Avg loss: {test_loss:>8f} \\n\")"
      ],
      "execution_count": 9,
      "outputs": []
    },
    {
      "cell_type": "markdown",
      "metadata": {
        "id": "smIlfr_2zgRb"
      },
      "source": [
        "We initialized the loss function and optimizer, and passed it to `train_loop` and `test_loop`. You can increase the number of epochs to track the model’s improving performance."
      ]
    },
    {
      "cell_type": "code",
      "metadata": {
        "colab": {
          "base_uri": "https://localhost:8080/"
        },
        "id": "VgMMAS72zt8H",
        "outputId": "580159f1-8e25-42ec-f89b-ad8bd40edd7c"
      },
      "source": [
        "loss_fn = nn.CrossEntropyLoss()\n",
        "optimizer = torch.optim.SGD(model.parameters(), lr=learning_rate)\n",
        "\n",
        "epochs = 10\n",
        "for t in range(epochs):\n",
        "    print(f\"Epoch {t+1}\\n-------------------------------\")\n",
        "    train_loop(train_dataloader, model, loss_fn, optimizer)\n",
        "    test_loop(test_dataloader, model, loss_fn)\n",
        "print(\"Done!\")"
      ],
      "execution_count": 10,
      "outputs": [
        {
          "output_type": "stream",
          "text": [
            "Epoch 1\n",
            "-------------------------------\n",
            "loss: 2.300387  [    0/60000]\n",
            "loss: 2.298363  [ 6400/60000]\n",
            "loss: 2.283262  [12800/60000]\n",
            "loss: 2.275849  [19200/60000]\n",
            "loss: 2.265440  [25600/60000]\n",
            "loss: 2.241700  [32000/60000]\n",
            "loss: 2.247995  [38400/60000]\n",
            "loss: 2.228877  [44800/60000]\n",
            "loss: 2.247838  [51200/60000]\n",
            "loss: 2.180404  [57600/60000]\n",
            "Test Error: \n",
            " Accuracy: 39.2%, Avg loss: 2.206321 \n",
            "\n",
            "Epoch 2\n",
            "-------------------------------\n",
            "loss: 2.235430  [    0/60000]\n",
            "loss: 2.236584  [ 6400/60000]\n",
            "loss: 2.187181  [12800/60000]\n",
            "loss: 2.171700  [19200/60000]\n",
            "loss: 2.154429  [25600/60000]\n",
            "loss: 2.121472  [32000/60000]\n",
            "loss: 2.135508  [38400/60000]\n",
            "loss: 2.104276  [44800/60000]\n",
            "loss: 2.149244  [51200/60000]\n",
            "loss: 2.003000  [57600/60000]\n",
            "Test Error: \n",
            " Accuracy: 44.4%, Avg loss: 2.057183 \n",
            "\n",
            "Epoch 3\n",
            "-------------------------------\n",
            "loss: 2.135312  [    0/60000]\n",
            "loss: 2.119444  [ 6400/60000]\n",
            "loss: 2.023216  [12800/60000]\n",
            "loss: 1.993113  [19200/60000]\n",
            "loss: 1.949816  [25600/60000]\n",
            "loss: 1.932359  [32000/60000]\n",
            "loss: 1.935045  [38400/60000]\n",
            "loss: 1.898841  [44800/60000]\n",
            "loss: 1.992416  [51200/60000]\n",
            "loss: 1.732324  [57600/60000]\n",
            "Test Error: \n",
            " Accuracy: 47.4%, Avg loss: 1.835409 \n",
            "\n",
            "Epoch 4\n",
            "-------------------------------\n",
            "loss: 1.988124  [    0/60000]\n",
            "loss: 1.950990  [ 6400/60000]\n",
            "loss: 1.811719  [12800/60000]\n",
            "loss: 1.754153  [19200/60000]\n",
            "loss: 1.704489  [25600/60000]\n",
            "loss: 1.730945  [32000/60000]\n",
            "loss: 1.710480  [38400/60000]\n",
            "loss: 1.698077  [44800/60000]\n",
            "loss: 1.828823  [51200/60000]\n",
            "loss: 1.479016  [57600/60000]\n",
            "Test Error: \n",
            " Accuracy: 50.2%, Avg loss: 1.634138 \n",
            "\n",
            "Epoch 5\n",
            "-------------------------------\n",
            "loss: 1.847196  [    0/60000]\n",
            "loss: 1.802097  [ 6400/60000]\n",
            "loss: 1.638875  [12800/60000]\n",
            "loss: 1.556886  [19200/60000]\n",
            "loss: 1.506258  [25600/60000]\n",
            "loss: 1.584621  [32000/60000]\n",
            "loss: 1.537973  [38400/60000]\n",
            "loss: 1.557200  [44800/60000]\n",
            "loss: 1.690718  [51200/60000]\n",
            "loss: 1.310665  [57600/60000]\n",
            "Test Error: \n",
            " Accuracy: 52.2%, Avg loss: 1.488179 \n",
            "\n",
            "Epoch 6\n",
            "-------------------------------\n",
            "loss: 1.720980  [    0/60000]\n",
            "loss: 1.683166  [ 6400/60000]\n",
            "loss: 1.504188  [12800/60000]\n",
            "loss: 1.421926  [19200/60000]\n",
            "loss: 1.356919  [25600/60000]\n",
            "loss: 1.474336  [32000/60000]\n",
            "loss: 1.412553  [38400/60000]\n",
            "loss: 1.454125  [44800/60000]\n",
            "loss: 1.581788  [51200/60000]\n",
            "loss: 1.200954  [57600/60000]\n",
            "Test Error: \n",
            " Accuracy: 53.1%, Avg loss: 1.382944 \n",
            "\n",
            "Epoch 7\n",
            "-------------------------------\n",
            "loss: 1.617117  [    0/60000]\n",
            "loss: 1.590858  [ 6400/60000]\n",
            "loss: 1.400733  [12800/60000]\n",
            "loss: 1.328209  [19200/60000]\n",
            "loss: 1.251380  [25600/60000]\n",
            "loss: 1.389753  [32000/60000]\n",
            "loss: 1.321323  [38400/60000]\n",
            "loss: 1.377619  [44800/60000]\n",
            "loss: 1.499889  [51200/60000]\n",
            "loss: 1.124868  [57600/60000]\n",
            "Test Error: \n",
            " Accuracy: 54.0%, Avg loss: 1.306732 \n",
            "\n",
            "Epoch 8\n",
            "-------------------------------\n",
            "loss: 1.535181  [    0/60000]\n",
            "loss: 1.521879  [ 6400/60000]\n",
            "loss: 1.320682  [12800/60000]\n",
            "loss: 1.261227  [19200/60000]\n",
            "loss: 1.178849  [25600/60000]\n",
            "loss: 1.324295  [32000/60000]\n",
            "loss: 1.255433  [38400/60000]\n",
            "loss: 1.322142  [44800/60000]\n",
            "loss: 1.439575  [51200/60000]\n",
            "loss: 1.069527  [57600/60000]\n",
            "Test Error: \n",
            " Accuracy: 55.2%, Avg loss: 1.251380 \n",
            "\n",
            "Epoch 9\n",
            "-------------------------------\n",
            "loss: 1.472370  [    0/60000]\n",
            "loss: 1.471802  [ 6400/60000]\n",
            "loss: 1.257790  [12800/60000]\n",
            "loss: 1.211755  [19200/60000]\n",
            "loss: 1.128518  [25600/60000]\n",
            "loss: 1.272842  [32000/60000]\n",
            "loss: 1.206896  [38400/60000]\n",
            "loss: 1.281155  [44800/60000]\n",
            "loss: 1.394932  [51200/60000]\n",
            "loss: 1.028717  [57600/60000]\n",
            "Test Error: \n",
            " Accuracy: 55.9%, Avg loss: 1.210177 \n",
            "\n",
            "Epoch 10\n",
            "-------------------------------\n",
            "loss: 1.421984  [    0/60000]\n",
            "loss: 1.434984  [ 6400/60000]\n",
            "loss: 1.207161  [12800/60000]\n",
            "loss: 1.174438  [19200/60000]\n",
            "loss: 1.091516  [25600/60000]\n",
            "loss: 1.233783  [32000/60000]\n",
            "loss: 1.168821  [38400/60000]\n",
            "loss: 1.249500  [44800/60000]\n",
            "loss: 1.358225  [51200/60000]\n",
            "loss: 0.997463  [57600/60000]\n",
            "Test Error: \n",
            " Accuracy: 56.7%, Avg loss: 1.177585 \n",
            "\n",
            "Done!\n"
          ],
          "name": "stdout"
        }
      ]
    }
  ]
}