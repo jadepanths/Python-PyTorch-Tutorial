{
  "nbformat": 4,
  "nbformat_minor": 0,
  "metadata": {
    "colab": {
      "name": "Installation.ipynb",
      "provenance": [],
      "authorship_tag": "ABX9TyPwvTncyD1p5eo54PJPLbK7",
      "include_colab_link": true
    },
    "kernelspec": {
      "name": "python3",
      "display_name": "Python 3"
    },
    "language_info": {
      "name": "python"
    }
  },
  "cells": [
    {
      "cell_type": "markdown",
      "metadata": {
        "id": "view-in-github",
        "colab_type": "text"
      },
      "source": [
        "<a href=\"https://colab.research.google.com/github/jadepanths/Python-PyTorch-Tutorial/blob/main/Installation.ipynb\" target=\"_parent\"><img src=\"https://colab.research.google.com/assets/colab-badge.svg\" alt=\"Open In Colab\"/></a>"
      ]
    },
    {
      "cell_type": "markdown",
      "metadata": {
        "id": "AIBY6xP1Eiaz"
      },
      "source": [
        "# Install IDE (Windows, macOS, and Linux)\n",
        "Install an IDE on your local device like [IDLE](https://www.python.org/downloads/), [PyCharm](https://www.jetbrains.com/pycharm/download/#section=windows), or [Microsoft Visual Studio](https://visualstudio.microsoft.com/vs/features/python/). I personally recommend [PyCharm](https://www.jetbrains.com/pycharm/download/#section=windows) as it has an excellent debugger, sophisticated autocompletion, and refactoring support. Moreover, PyCharm is a cross-platform IDE that works great on the **Windows**, **macOS**, and **Linux**."
      ]
    },
    {
      "cell_type": "markdown",
      "metadata": {
        "id": "FNXAGFLpEoB9"
      },
      "source": [
        "# Install Toolkit (Windows, macOS, and Linux)\n",
        "Install [Anaconda](https://www.anaconda.com/products/individual). Anaconda is a toolkit that includes open-source packages and libraries. You will need this to install libraries and manage environments where you will compile your code in."
      ]
    },
    {
      "cell_type": "markdown",
      "metadata": {
        "id": "hjrSi1tiEuFy"
      },
      "source": [
        "# Check CUDA Capability\n",
        "Check if your computer/labtop is ***CUDA-capable*** CUDA is limited to ***NVIDIA*** GPU. If you know what GPU you have, you can simply check if it CUDA capable here [CUDA GPUS LIST](https://developer.nvidia.com/cuda-gpus). <br/> <br/> \n",
        "If you do not know what GPU do you have, check the following steps. <br/> <br/> \n",
        "For **Windows**, open \"Run\" in the window search bar or the start menu. Then run this command: ```control /name Microsoft.DeviceManager```. Then go to your Display Adapters to check your GPUs. <br/>\n",
        "![Device Manager](https://user-images.githubusercontent.com/85147048/120597340-1eacff00-c46f-11eb-824c-7fcfffb5f5ee.png) <br/>\n",
        "\n",
        "For **MacOS**, under the Apple menu, select _About This Mac_, click the _More Indo..._ botton, and select _Graphics/Displays_ under the Hardware list. You will find the vendor name and model of your graphics card. You can also check version of the CUDA, if have one installed, by running ```nvcc -V``` in a terminal window. <br/>\n",
        "\n",
        "For **Linux**, you can use GUI to identify the graphics card. You can open the _setting_ dialog, and then click _Details_ in the sidebar. In the _About_ panel, look for a _Graphics_ entry. Here is an example. <br/>\n",
        "![16-5](https://user-images.githubusercontent.com/85147048/122430600-f3252b00-cfbd-11eb-8ba5-1fc9c9d99cbf.png) <br/>\n",
        "\n",
        "After making sure you have a CUDA-capable GPU, you can download and install [CUDA Toolkit](https://developer.nvidia.com/cuda-downloads)"
      ]
    },
    {
      "cell_type": "markdown",
      "metadata": {
        "id": "hFQW48_KE5uc"
      },
      "source": [
        "# Install PyTorch\n",
        "First, create a new environment by openning Anaconda Prompt in the window start menu. Then, run this command: ```conda create --name deeplearning``` where \"deeplearning\" is the name of the environment and can use any name you wish. The terminal will ask you to proceed, type 'y' and enter. Then, run the following command ```conda activate deeplearning``` (note: \"deeplearning\" is the environment name you created. Makde sure to use the same name.)<br/>\n",
        "<br/>\n",
        "For **NON-CUDA**, run this command <br/>```conda install pytorch torchvision torchaudio cpuonly -c pytorch```.<br/>\n",
        "For **CUDA-capable**, run this command <br/>```conda install pytorch torchvision torchaudio cudatoolkit=10.2 -c pytorch```.<br/>\n",
        "Then run 'y' to proceed with the installation."
      ]
    },
    {
      "cell_type": "markdown",
      "metadata": {
        "id": "OusSTUWHFFEK"
      },
      "source": [
        "# Setup an Environment\n",
        "Open PyCharm. Go to setting under the configure. In the setting, go to the project interpreter. On the top right, press the gear icon and press add. **Go to Conda Environment**, **Existing Environment**, and you should see the created environment similar to this\n",
        "![PyCharm-add-interpreter](https://user-images.githubusercontent.com/85147048/120616430-6c336700-c483-11eb-92e0-cbe414facb59.png)\n",
        "\n",
        "Now you can create a new project under the built environment.\n",
        "![PyCharm Create a new project](https://user-images.githubusercontent.com/85147048/120617118-05fb1400-c484-11eb-9930-8f0820e22a29.png)\n",
        "\n",
        "To Check if you have successfully installed PyTorch, you can try these following code."
      ]
    },
    {
      "cell_type": "code",
      "metadata": {
        "id": "fBlQEv82FM3z"
      },
      "source": [
        "import torch\n",
        "\n",
        "# setting device on GPU if available, else CPU\n",
        "device = torch.device('cuda' if torch.cuda.is_available() else 'cpu')\n",
        "print('Using device:', device)\n",
        "print()\n",
        "\n",
        "if device.type == 'cuda':\n",
        "    print(torch.cuda.get_device_name(0))\n",
        "    \n",
        "x = torch.rand(5, 3)\n",
        "print(x)"
      ],
      "execution_count": null,
      "outputs": []
    }
  ]
}