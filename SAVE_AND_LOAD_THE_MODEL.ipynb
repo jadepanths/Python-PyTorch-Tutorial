{
  "nbformat": 4,
  "nbformat_minor": 0,
  "metadata": {
    "colab": {
      "name": "SAVE AND LOAD THE MODEL.ipynb",
      "provenance": [],
      "authorship_tag": "ABX9TyMwzW2mKXN/vB/PBzJbDP9J",
      "include_colab_link": true
    },
    "kernelspec": {
      "name": "python3",
      "display_name": "Python 3"
    },
    "language_info": {
      "name": "python"
    }
  },
  "cells": [
    {
      "cell_type": "markdown",
      "metadata": {
        "id": "view-in-github",
        "colab_type": "text"
      },
      "source": [
        "<a href=\"https://colab.research.google.com/github/jadepanths/Python-PyTorch-Tutorial/blob/main/SAVE_AND_LOAD_THE_MODEL.ipynb\" target=\"_parent\"><img src=\"https://colab.research.google.com/assets/colab-badge.svg\" alt=\"Open In Colab\"/></a>"
      ]
    },
    {
      "cell_type": "markdown",
      "metadata": {
        "id": "6m37GJ-3gCJ8"
      },
      "source": [
        "[PyTorch.org](https://pytorch.org/tutorials/beginner/basics/saveloadrun_tutorial.html) explanations and examples: <br/>\n",
        "in this section we will look at how to persist model state with saving, loading and running model predictions."
      ]
    },
    {
      "cell_type": "code",
      "metadata": {
        "id": "aFAtt8qDf7eD"
      },
      "source": [
        "import torch\n",
        "import torch.onnx as onnx\n",
        "import torchvision.models as models"
      ],
      "execution_count": null,
      "outputs": []
    },
    {
      "cell_type": "markdown",
      "metadata": {
        "id": "fThWv290gX7_"
      },
      "source": [
        "# Saving and Loading Model Weights\n",
        "PyTorch models store the learned parameters in an internal state dictionary, called `state_dict`. These can be presisted via the `torch.save` method:\n"
      ]
    },
    {
      "cell_type": "code",
      "metadata": {
        "id": "FMKCKGiIhI88"
      },
      "source": [
        "model = models.vgg16(pretrained=True)\n",
        "torch.save(model.state_dict(), 'model_weights.pth')"
      ],
      "execution_count": null,
      "outputs": []
    },
    {
      "cell_type": "markdown",
      "metadata": {
        "id": "uFTXuib0hvj2"
      },
      "source": [
        "To load model weights, you need to create an instance of the smae model first, and then load the parameters using `load_state_dict()` method:"
      ]
    },
    {
      "cell_type": "code",
      "metadata": {
        "id": "6k9JVAjNh85U"
      },
      "source": [
        "model = models.vgg16() # we do not specify pretrained=True, i.e. do not load default weights\n",
        "model.load_state_dict(torch.load('model_weights.pth'))\n",
        "model.eval()"
      ],
      "execution_count": null,
      "outputs": []
    },
    {
      "cell_type": "markdown",
      "metadata": {
        "id": "Vtlz5O0sxsNN"
      },
      "source": [
        "*NOTE:*\n",
        "be sure to call `model.eval()` method before inferencing to set the dropout and batch normalization layers to evaluation mode. Failing to do this will yield inconsistent inference results."
      ]
    },
    {
      "cell_type": "markdown",
      "metadata": {
        "id": "RpwdFQKJyMnn"
      },
      "source": [
        "# Saving and Loading Models with Shapes\n",
        "When loading model weights, we needed to instantiate the model class first, because the class defines the structure of a network. We might want to save the structure of this class together with the model, in which case we can pass model `(and not model.state_dict())` to the saving function:"
      ]
    },
    {
      "cell_type": "code",
      "metadata": {
        "id": "HeSoLCbGyVNH"
      },
      "source": [
        "torch.save(model, 'model.pth')"
      ],
      "execution_count": null,
      "outputs": []
    },
    {
      "cell_type": "markdown",
      "metadata": {
        "id": "TaRmeg77ysp9"
      },
      "source": [
        "We can then load the model like this:"
      ]
    },
    {
      "cell_type": "code",
      "metadata": {
        "id": "-vRpwCJSyt-u"
      },
      "source": [
        "model = torch.load('model.pth')"
      ],
      "execution_count": null,
      "outputs": []
    },
    {
      "cell_type": "markdown",
      "metadata": {
        "id": "_pz-nzOq0LGD"
      },
      "source": [
        "*NOTE:*\n",
        "This approach uses Python [pickle](https://docs.python.org/3/library/pickle.html) module when serializing the model, thus it relies on the actual class definition to be available when loading the model. Pickle is the standard wat of serializing objects in Python."
      ]
    },
    {
      "cell_type": "markdown",
      "metadata": {
        "id": "-S86QK5O04mk"
      },
      "source": [
        "# Exporting Model to ONNX\n",
        "PyTorch also has native ONNX export support. Given the dynamic nature of the PyTorch execution graph, however, the export process must traverse the execution graph to produce a persisted ONNX model. For this reason, a test variable of the appropriate size should be passed in to the export routine (in our case, we will create a dummy zero tensor of the correct size):"
      ]
    },
    {
      "cell_type": "code",
      "metadata": {
        "id": "APfsJZtN0_4P"
      },
      "source": [
        "input_image = torch.zeros((1,3,224,224))\n",
        "onnx.export(model, input_image, 'model.onnx')"
      ],
      "execution_count": null,
      "outputs": []
    },
    {
      "cell_type": "markdown",
      "metadata": {
        "id": "nBUcBlM11B-L"
      },
      "source": [
        "There are a lot of things you can do with ONNX model, including running inference on different platforms and in different programming languages. For more details, we recommend visiting [ONNX tutorial](https://github.com/onnx/tutorials).\n",
        "\n",
        "Congratulations! You have completed the PyTorch beginner tutorial! Try [revisting the first page](https://pytorch.org/tutorials/beginner/basics/quickstart_tutorial.html) to see the tutorial in its entirety again. We hope this tutorial has helped you get started with deep learning on PyTorch. Good luck!"
      ]
    }
  ]
}