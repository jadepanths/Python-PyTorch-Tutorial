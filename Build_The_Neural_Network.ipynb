{
  "nbformat": 4,
  "nbformat_minor": 0,
  "metadata": {
    "colab": {
      "name": "Build The Neural Network.ipynb",
      "provenance": [],
      "authorship_tag": "ABX9TyPrdZG+tK3YpoyOiT97e105",
      "include_colab_link": true
    },
    "kernelspec": {
      "name": "python3",
      "display_name": "Python 3"
    },
    "language_info": {
      "name": "python"
    },
    "accelerator": "GPU"
  },
  "cells": [
    {
      "cell_type": "markdown",
      "metadata": {
        "id": "view-in-github",
        "colab_type": "text"
      },
      "source": [
        "<a href=\"https://colab.research.google.com/github/jadepanths/Python-PyTorch-Tutorial/blob/main/Build_The_Neural_Network.ipynb\" target=\"_parent\"><img src=\"https://colab.research.google.com/assets/colab-badge.svg\" alt=\"Open In Colab\"/></a>"
      ]
    },
    {
      "cell_type": "markdown",
      "metadata": {
        "id": "tFO5mydrz7e1"
      },
      "source": [
        "# Build The Neural Network\n",
        "The Neural networks comprise of layer or modules that perform operations on data. The [torch.nn](https://pytorch.org/docs/stable/nn.html) namespace provides all the building blocks you need to build your own neural network. All the modules in PyTorch subclasses the [nn.Module](https://pytorch.org/docs/stable/generated/torch.nn.Module.html). A neural network is modile itself that consists of other modules/laters. This nested structure allows for building and managing complex architectures easily.<br/>\n",
        "<br/>\n",
        "We will build a neural network to classify images in the FasionMNIST dataset."
      ]
    },
    {
      "cell_type": "code",
      "metadata": {
        "id": "UWmuPQ9Tz4uZ"
      },
      "source": [
        "import os\n",
        "import torch\n",
        "from torch import nn\n",
        "from torch.utils.data import DataLoader\n",
        "from torchvision import datasets, transforms"
      ],
      "execution_count": 1,
      "outputs": []
    },
    {
      "cell_type": "markdown",
      "metadata": {
        "id": "8jSMtV4H0DA6"
      },
      "source": [
        "# Get Device for training\n",
        "Training a model on a hardware accelerator like a GPU is faster than traing on a cpu. Therefore, we should check if cuda is available.\n",
        "\n",
        "__Note:__ To enable cuda, go to \"Runtime\" -> \"change runtime type\" -> change hardware accelerator to \"GPU\"."
      ]
    },
    {
      "cell_type": "code",
      "metadata": {
        "colab": {
          "base_uri": "https://localhost:8080/"
        },
        "id": "KntW_9Ru0En-",
        "outputId": "fb919985-ec22-4483-fd33-02f7c828fd43"
      },
      "source": [
        "device = 'cuda' if torch.cuda.is_available() else 'cpu'\n",
        "print('Using {} device'.format(device))"
      ],
      "execution_count": 2,
      "outputs": [
        {
          "output_type": "stream",
          "text": [
            "Using cuda device\n"
          ],
          "name": "stdout"
        }
      ]
    },
    {
      "cell_type": "markdown",
      "metadata": {
        "id": "loUv67Xx0tY2"
      },
      "source": [
        "# Define the Class\n",
        "We define our neural network bu subclassing _nn.Module_, and initialize the neural network laters in ```__init__```. Every _nn.Module_ subclass implements the operations on input data in the _forward_ method."
      ]
    },
    {
      "cell_type": "code",
      "metadata": {
        "id": "Pfax5lG_0v8Q"
      },
      "source": [
        "class NeuralNetwork(nn.Module):\n",
        "    def __init__(self):\n",
        "        super(NeuralNetwork, self).__init__()\n",
        "        self.flatten = nn.Flatten()\n",
        "        self.linear_relu_stack = nn.Sequential(\n",
        "            nn.Linear(28*28, 512),\n",
        "            nn.ReLU(),\n",
        "            nn.Linear(512, 512),\n",
        "            nn.ReLU(),\n",
        "            nn.Linear(512, 10),\n",
        "            nn.ReLU()\n",
        "        )\n",
        "\n",
        "    def forward(self, x):\n",
        "        x = self.flatten(x)\n",
        "        logits = self.linear_relu_stack(x)\n",
        "        return logits"
      ],
      "execution_count": 3,
      "outputs": []
    },
    {
      "cell_type": "markdown",
      "metadata": {
        "id": "W7QPanaE00AC"
      },
      "source": [
        "After creating an instance if _NeuralNetwork_, we can move it to the _device_ and print its structure."
      ]
    },
    {
      "cell_type": "code",
      "metadata": {
        "colab": {
          "base_uri": "https://localhost:8080/"
        },
        "id": "qX1UEuas02om",
        "outputId": "db2dd853-f44b-4d4d-d609-7801341d44e2"
      },
      "source": [
        "model = NeuralNetwork().to(device)\n",
        "print(model)"
      ],
      "execution_count": 4,
      "outputs": [
        {
          "output_type": "stream",
          "text": [
            "NeuralNetwork(\n",
            "  (flatten): Flatten(start_dim=1, end_dim=-1)\n",
            "  (linear_relu_stack): Sequential(\n",
            "    (0): Linear(in_features=784, out_features=512, bias=True)\n",
            "    (1): ReLU()\n",
            "    (2): Linear(in_features=512, out_features=512, bias=True)\n",
            "    (3): ReLU()\n",
            "    (4): Linear(in_features=512, out_features=10, bias=True)\n",
            "    (5): ReLU()\n",
            "  )\n",
            ")\n"
          ],
          "name": "stdout"
        }
      ]
    },
    {
      "cell_type": "markdown",
      "metadata": {
        "id": "42QgRIu707Kd"
      },
      "source": [
        "Note: **ReLu** is like Riemann sums. You can approximate any continuos functions with lots of little reactangles. ReLu activations can produced lots of little rectangles. ReLu can make complicated shapes and approximate maby complicated domains."
      ]
    },
    {
      "cell_type": "markdown",
      "metadata": {
        "id": "Z4mct9ue1b7j"
      },
      "source": [
        "To use the model, we pass it the input data. This executes the model’s _forward_, along with some [background operations](https://github.com/pytorch/pytorch/blob/270111b7b611d174967ed204776985cefca9c144/torch/nn/modules/module.py#L866). Do not call model.forward() directly. <br/>\n",
        "<br/>\n",
        "Calling the model on the input returns a 10-dimensional tensor with a raw predicted values for each class. We get the prediction probabilities by passign ti through an instance of the ```nn.Softmax``` module."
      ]
    },
    {
      "cell_type": "code",
      "metadata": {
        "colab": {
          "base_uri": "https://localhost:8080/"
        },
        "id": "txhSCjjb1ueK",
        "outputId": "0976a873-e148-4ec8-e2c7-c2427628e9fe"
      },
      "source": [
        "X = torch.rand(1, 28, 28, device=device)\n",
        "logits = model(X)\n",
        "pred_probab = nn.Softmax(dim=1)(logits)\n",
        "y_pred = pred_probab.argmax(1)\n",
        "print(f\"Predicted class: {y_pred}\")"
      ],
      "execution_count": 5,
      "outputs": [
        {
          "output_type": "stream",
          "text": [
            "Predicted class: tensor([0], device='cuda:0')\n"
          ],
          "name": "stdout"
        }
      ]
    },
    {
      "cell_type": "markdown",
      "metadata": {
        "id": "gAduRjFV2HsG"
      },
      "source": [
        "# Model Layers\n",
        "Break down the layers in the FashionMNIST model. We will take a sample minibatch of 3 images of size 28x28."
      ]
    },
    {
      "cell_type": "code",
      "metadata": {
        "colab": {
          "base_uri": "https://localhost:8080/"
        },
        "id": "6_vFiPg22Iwe",
        "outputId": "4b626d2f-f834-4c33-8725-1b94693704bc"
      },
      "source": [
        "input_image = torch.rand(3,28,28)\n",
        "print(input_image.size())"
      ],
      "execution_count": 6,
      "outputs": [
        {
          "output_type": "stream",
          "text": [
            "torch.Size([3, 28, 28])\n"
          ],
          "name": "stdout"
        }
      ]
    },
    {
      "cell_type": "markdown",
      "metadata": {
        "id": "CT_8OIop2MFD"
      },
      "source": [
        "## Flatten\n",
        "We initialize the [nn.Flatten](https://pytorch.org/docs/stable/generated/torch.nn.Flatten.html) layer to convert each 2D 28*28 image into a contiguous of 784 pixel values (the minibatch dimension (at dim=0) is maintained)"
      ]
    },
    {
      "cell_type": "code",
      "metadata": {
        "colab": {
          "base_uri": "https://localhost:8080/"
        },
        "id": "kcNpgNXt2QOF",
        "outputId": "d9483b30-f481-4b4f-8591-034900b7a484"
      },
      "source": [
        "flatten = nn.Flatten()\n",
        "flat_image = flatten(input_image)\n",
        "print(flat_image.size())"
      ],
      "execution_count": 7,
      "outputs": [
        {
          "output_type": "stream",
          "text": [
            "torch.Size([3, 784])\n"
          ],
          "name": "stdout"
        }
      ]
    },
    {
      "cell_type": "markdown",
      "metadata": {
        "id": "cH-nXbGQ2SaH"
      },
      "source": [
        "## Linear\n",
        "The [nn.Linear](https://pytorch.org/docs/stable/generated/torch.nn.Linear.html) is a module that applies a linear transformation on the input using its stored weights and biases."
      ]
    },
    {
      "cell_type": "code",
      "metadata": {
        "colab": {
          "base_uri": "https://localhost:8080/"
        },
        "id": "8RMToZ3W2XZD",
        "outputId": "8b80e115-ff18-4a0e-d07a-e2ecb6e46d3e"
      },
      "source": [
        "layer1 = nn.Linear(in_features=28*28, out_features=20)\n",
        "hidden1 = layer1(flat_image)\n",
        "print(hidden1.size())"
      ],
      "execution_count": 8,
      "outputs": [
        {
          "output_type": "stream",
          "text": [
            "torch.Size([3, 20])\n"
          ],
          "name": "stdout"
        }
      ]
    },
    {
      "cell_type": "markdown",
      "metadata": {
        "id": "gszx6zb-2xvS"
      },
      "source": [
        "## ReLU\n",
        "[nn.ReLu](https://pytorch.org/docs/stable/generated/torch.nn.ReLU.html) is used between the linear layers. (There is other activations to introduce non-linearity in your model.\n",
        "\n",
        "Non-linear activations create the complex mapping between the model's input and outputs. They are apllied after the linear transformation to introduce _nonlinearity_."
      ]
    },
    {
      "cell_type": "code",
      "metadata": {
        "colab": {
          "base_uri": "https://localhost:8080/"
        },
        "id": "xw2POqtJ23pH",
        "outputId": "f14293ef-3f1f-4b76-9373-dac70b63f092"
      },
      "source": [
        "print(f\"Before ReLU: {hidden1}\\n\\n\")\n",
        "hidden1 = nn.ReLU()(hidden1)\n",
        "print(f\"After ReLU: {hidden1}\")"
      ],
      "execution_count": 9,
      "outputs": [
        {
          "output_type": "stream",
          "text": [
            "Before ReLU: tensor([[-0.1995, -0.7510,  0.2033, -0.3022,  0.1698, -0.3047, -0.1637, -0.1876,\n",
            "         -0.0198, -0.0042,  0.8384, -0.2327,  0.0033,  0.2341, -0.3179, -0.2469,\n",
            "          0.0570,  0.0995,  0.0581, -0.4231],\n",
            "        [ 0.0751, -0.9518,  0.2376, -0.3440,  0.0947,  0.0510,  0.1051, -0.4849,\n",
            "          0.0120,  0.3127,  0.9142, -0.3329, -0.5684,  0.0671, -0.2668, -0.2917,\n",
            "          0.2045,  0.0606,  0.1925, -0.6722],\n",
            "        [-0.0261, -0.6533,  0.3344, -0.3380, -0.1327, -0.4048, -0.1737, -0.5577,\n",
            "         -0.1190, -0.1278,  0.7578, -0.0967, -0.1929,  0.0274, -0.3068, -0.3184,\n",
            "          0.3542,  0.0470,  0.4057, -0.6951]], grad_fn=<AddmmBackward>)\n",
            "\n",
            "\n",
            "After ReLU: tensor([[0.0000, 0.0000, 0.2033, 0.0000, 0.1698, 0.0000, 0.0000, 0.0000, 0.0000,\n",
            "         0.0000, 0.8384, 0.0000, 0.0033, 0.2341, 0.0000, 0.0000, 0.0570, 0.0995,\n",
            "         0.0581, 0.0000],\n",
            "        [0.0751, 0.0000, 0.2376, 0.0000, 0.0947, 0.0510, 0.1051, 0.0000, 0.0120,\n",
            "         0.3127, 0.9142, 0.0000, 0.0000, 0.0671, 0.0000, 0.0000, 0.2045, 0.0606,\n",
            "         0.1925, 0.0000],\n",
            "        [0.0000, 0.0000, 0.3344, 0.0000, 0.0000, 0.0000, 0.0000, 0.0000, 0.0000,\n",
            "         0.0000, 0.7578, 0.0000, 0.0000, 0.0274, 0.0000, 0.0000, 0.3542, 0.0470,\n",
            "         0.4057, 0.0000]], grad_fn=<ReluBackward0>)\n"
          ],
          "name": "stdout"
        }
      ]
    },
    {
      "cell_type": "markdown",
      "metadata": {
        "id": "eWSEnPsc27Zz"
      },
      "source": [
        "## Sequential\n",
        "[nn.Sequential](https://pytorch.org/docs/stable/generated/torch.nn.Sequential.html) is an ordered container of modules. This data is passed through all the modules in the same order as defined. You can use sequential containers to put together a quicl network like *seq_modules*"
      ]
    },
    {
      "cell_type": "code",
      "metadata": {
        "id": "GGSetwij28ba"
      },
      "source": [
        "seq_modules = nn.Sequential(\n",
        "    flatten,\n",
        "    layer1,\n",
        "    nn.ReLU(),\n",
        "    nn.Linear(20, 10)\n",
        ")\n",
        "input_image = torch.rand(3,28,28)\n",
        "logits = seq_modules(input_image)"
      ],
      "execution_count": 10,
      "outputs": []
    }
  ]
}